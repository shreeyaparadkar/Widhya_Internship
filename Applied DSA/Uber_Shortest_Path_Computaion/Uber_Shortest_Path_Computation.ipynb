{
 "cells": [
  {
   "cell_type": "markdown",
   "metadata": {},
   "source": [
    "#### ---------------------------------------------------------------------------------------------------------------------------------------------------------------------------------------------------\n",
    "# <center><font color=7E4456>Widhya</font></center>"
   ]
  },
  {
   "attachments": {
    "Widhya_Logo.png": {
     "image/png": "[encoded data removed]"
    }
   },
   "cell_type": "markdown",
   "metadata": {},
   "source": [
    "![Widhya_Logo.png](attachment:Widhya_Logo.png)"
   ]
  },
  {
   "cell_type": "markdown",
   "metadata": {},
   "source": [
    "#### ---------------------------------------------------------------------------------------------------------------------------------------------------------------------------------------------------\n",
    "### <center><font color=7E4456>Data Science Internship\n",
    "\n",
    "### <center><font color=7E4456>By </font><font color=15D77D>: </font><font color=5B1736>Shreeya Ravindra Pant-Paradkar</font></center>\n",
    "#### ---------------------------------------------------------------------------------------------------------------------------------------------------------------------------------------------------"
   ]
  },
  {
   "cell_type": "markdown",
   "metadata": {},
   "source": [
    "# <center><font color=5B4727>Applied DSA</font></center>\n",
    "### <center><font color=5B4727>(Level - Intermediate)</font></center>\n",
    "# <center><font color=14655D>Mission 2 : Uber Shortest Path Computation</font></center>\n",
    "### <center><font color=155E64>Problem Statement: </font><font color=5B4727>Identify the distance and the path between two points</font>\n",
    "#### ---------------------------------------------------------------------------------------------------------------------------------------------------------------------------------------------------"
   ]
  },
  {
   "cell_type": "markdown",
   "metadata": {},
   "source": [
    "###### Date: 14-01-21 (Thursday)\n",
    "\n",
    "#### Importing Libraries"
   ]
  },
  {
   "cell_type": "markdown",
   "metadata": {},
   "source": [
    "#### Eculidean Distance"
   ]
  },
  {
   "cell_type": "code",
   "execution_count": 1,
   "metadata": {},
   "outputs": [],
   "source": [
    "def eculidean():\n",
    "    x1 = float(input(\"Enter 'x1' value: \"))\n",
    "    x2 = float(input(\"Enter 'x2' value: \"))\n",
    "    y1 = float(input(\"Enter 'y1' value: \"))\n",
    "    y2 = float(input(\"Enter 'y2' value: \"))\n",
    "    x = (x2-x1)**2\n",
    "    y = (y2-y1)**2\n",
    "    D=(x+y)**0.5\n",
    "    print('\\nEculidean Distance is: {}'.format(round(D,2)))"
   ]
  },
  {
   "cell_type": "code",
   "execution_count": 2,
   "metadata": {},
   "outputs": [
    {
     "name": "stdout",
     "output_type": "stream",
     "text": [
      "Enter 'x1' value: 45\n",
      "Enter 'x2' value: 12\n",
      "Enter 'y1' value: 35\n",
      "Enter 'y2' value: 15\n",
      "\n",
      "Eculidean Distance is: 38.59\n"
     ]
    }
   ],
   "source": [
    "eculidean()"
   ]
  },
  {
   "cell_type": "markdown",
   "metadata": {},
   "source": [
    "#### Manhattan Distance"
   ]
  },
  {
   "cell_type": "markdown",
   "metadata": {},
   "source": [
    "> Sum of Manhattan distance between all pairs of co-ordinates"
   ]
  },
  {
   "cell_type": "code",
   "execution_count": 3,
   "metadata": {},
   "outputs": [],
   "source": [
    "#return the sum of distance of one axis\n",
    "def distance_sum (arr, n): \n",
    "      \n",
    "    #sorting the array\n",
    "    arr.sort() \n",
    "      \n",
    "    #for each point, finding the distance. \n",
    "    res = 0\n",
    "    sum = 0\n",
    "    \n",
    "    for i in range(n): \n",
    "        res += (arr[i] * i - sum) \n",
    "        sum += arr[i] \n",
    "      \n",
    "    return res "
   ]
  },
  {
   "cell_type": "code",
   "execution_count": 4,
   "metadata": {},
   "outputs": [],
   "source": [
    "def total_distance_sum( x , y , n ): \n",
    "    total = distance_sum(x, n) + distance_sum(y, n)\n",
    "    return total"
   ]
  },
  {
   "cell_type": "code",
   "execution_count": 5,
   "metadata": {},
   "outputs": [],
   "source": [
    "x = [ 8, 5, -3, 4 ] \n",
    "y = [ 4, 5, 2, 1 ]\n",
    "n = len(x)  "
   ]
  },
  {
   "cell_type": "code",
   "execution_count": 6,
   "metadata": {},
   "outputs": [
    {
     "data": {
      "text/plain": [
       "48"
      ]
     },
     "execution_count": 6,
     "metadata": {},
     "output_type": "execute_result"
    }
   ],
   "source": [
    "total_distance_sum(x, y, n)"
   ]
  },
  {
   "cell_type": "markdown",
   "metadata": {},
   "source": [
    "#### Bellman Ford Algorithm"
   ]
  },
  {
   "cell_type": "code",
   "execution_count": 7,
   "metadata": {},
   "outputs": [],
   "source": [
    "from collections import defaultdict"
   ]
  },
  {
   "cell_type": "code",
   "execution_count": 8,
   "metadata": {},
   "outputs": [],
   "source": [
    "from collections import defaultdict\n",
    "\n",
    "class Graph:\n",
    "    def __init__(self,vertices):\n",
    "        self.V = vertices \n",
    "        self.graph = []\n",
    "        \n",
    "    #add edge to graph\n",
    "    def addEdge(self, u,v,w):\n",
    "        self.graph.append([u,v,w])\n",
    "        \n",
    "    #print solution\n",
    "    def printArr(self,dist):\n",
    "        print(\"Vertex Distance from Source \")\n",
    "        for i in range(self.V):\n",
    "            print(\"%d -> %d\" % (i,dist[i]))\n",
    "            \n",
    "    #main function for bellman ford algorithm, also detects negative weight cycles\n",
    "    def BellmanFord(self,src):\n",
    "        \n",
    "        #init all distances from source to all as INFINITE\n",
    "        dist = [float(\"Inf\")] * self.V\n",
    "        dist[src] = 0\n",
    "        \n",
    "        #relax all edges |V|-1 times.\n",
    "        for i in range(self.V - 1):\n",
    "            \n",
    "            #update dist value and parent index of adjacent values of selected vertex\n",
    "            #consider those which are still in queue\n",
    "            for u, v, w in self.graph:\n",
    "                if dist[u] != float(\"Inf\") and dist[u] + w < dist[v]:\n",
    "                    dist[v] = dist[u] + w\n",
    "                    \n",
    "        #check for negative weight cycles. If path obtained from above step (shortest distances) is shorter, there's a cycle. \n",
    "        #so quit.\n",
    "        for u, v, w in self.graph:\n",
    "            if dist[u] != float(\"Inf\") and dist[u] + w < dist[v]:\n",
    "                print(\"Negative Cycles !\")\n",
    "                return\n",
    "            \n",
    "        #print distances\n",
    "        self.printArr(dist)"
   ]
  },
  {
   "cell_type": "code",
   "execution_count": 9,
   "metadata": {},
   "outputs": [],
   "source": [
    "g = Graph(5)"
   ]
  },
  {
   "cell_type": "code",
   "execution_count": 10,
   "metadata": {},
   "outputs": [],
   "source": [
    "g.addEdge(0, 1, -1)\n",
    "g.addEdge(0, 2, 4)\n",
    "g.addEdge(1, 2, 3)\n",
    "g.addEdge(1, 3, 2)\n",
    "g.addEdge(1, 4, 2)\n",
    "g.addEdge(3, 2, 5)\n",
    "g.addEdge(3, 1, 1)\n",
    "g.addEdge(4, 3, -3)"
   ]
  },
  {
   "cell_type": "code",
   "execution_count": 11,
   "metadata": {},
   "outputs": [
    {
     "name": "stdout",
     "output_type": "stream",
     "text": [
      "Vertex Distance from Source \n",
      "0 -> 0\n",
      "1 -> -1\n",
      "2 -> 2\n",
      "3 -> -2\n",
      "4 -> 1\n"
     ]
    }
   ],
   "source": [
    "#Print the solution\n",
    "g.BellmanFord(0)"
   ]
  },
  {
   "cell_type": "markdown",
   "metadata": {},
   "source": [
    "#### Dijkstra Short Distance"
   ]
  },
  {
   "cell_type": "code",
   "execution_count": 12,
   "metadata": {},
   "outputs": [],
   "source": [
    "import sys"
   ]
  },
  {
   "cell_type": "code",
   "execution_count": 13,
   "metadata": {},
   "outputs": [],
   "source": [
    "class Vertex:\n",
    "    \n",
    "    def __init__(self, node):\n",
    "        self.id = node\n",
    "        self.adjacent = {}\n",
    "        \n",
    "        #set distance to infinity for all nodes\n",
    "        self.distance = sys.maxint\n",
    "        \n",
    "        #mark all nodes unvisited        \n",
    "        self.visited = False  \n",
    "        \n",
    "        #predecessor\n",
    "        self.previous = None\n",
    "\n",
    "    def add_neighbor(self, neighbor, weight=0):\n",
    "        self.adjacent[neighbor] = weight\n",
    "\n",
    "    def get_connections(self):\n",
    "        return self.adjacent.keys()  \n",
    "\n",
    "    def get_id(self):\n",
    "        return self.id\n",
    "\n",
    "    def get_weight(self, neighbor):\n",
    "        return self.adjacent[neighbor]\n",
    "\n",
    "    def set_distance(self, dist):\n",
    "        self.distance = dist\n",
    "\n",
    "    def get_distance(self):\n",
    "        return self.distance\n",
    "\n",
    "    def set_previous(self, prev):\n",
    "        self.previous = prev\n",
    "\n",
    "    def set_visited(self):\n",
    "        self.visited = True\n",
    "\n",
    "    def __str__(self):\n",
    "        return str(self.id) + ' adjacent: ' + str([x.id for x in self.adjacent])"
   ]
  },
  {
   "cell_type": "code",
   "execution_count": 14,
   "metadata": {},
   "outputs": [],
   "source": [
    "class Graph:\n",
    "    \n",
    "    def __init__(self):\n",
    "        self.vert_dict = {}\n",
    "        self.num_vertices = 0\n",
    "\n",
    "    def __iter__(self):\n",
    "        return iter(self.vert_dict.values())\n",
    "\n",
    "    def add_vertex(self, node):\n",
    "        self.num_vertices = self.num_vertices + 1\n",
    "        new_vertex = Vertex(node)\n",
    "        self.vert_dict[node] = new_vertex\n",
    "        return new_vertex\n",
    "\n",
    "    def get_vertex(self, n):\n",
    "        if n in self.vert_dict:\n",
    "            return self.vert_dict[n]\n",
    "        else:\n",
    "            return None\n",
    "\n",
    "    def add_edge(self, frm, to, cost = 0):\n",
    "        if frm not in self.vert_dict:\n",
    "            self.add_vertex(frm)\n",
    "        if to not in self.vert_dict:\n",
    "            self.add_vertex(to)\n",
    "\n",
    "        self.vert_dict[frm].add_neighbor(self.vert_dict[to], cost)\n",
    "        self.vert_dict[to].add_neighbor(self.vert_dict[frm], cost)\n",
    "\n",
    "    def get_vertices(self):\n",
    "        return self.vert_dict.keys()\n",
    "\n",
    "    def set_previous(self, current):\n",
    "        self.previous = current\n",
    "\n",
    "    def get_previous(self, current):\n",
    "        return self.previous"
   ]
  },
  {
   "cell_type": "code",
   "execution_count": 15,
   "metadata": {},
   "outputs": [],
   "source": [
    "def shortest(v, path):\n",
    "    ''' make shortest path from v.previous'''\n",
    "    if v.previous:\n",
    "        path.append(v.previous.get_id())\n",
    "        shortest(v.previous, path)\n",
    "    return"
   ]
  },
  {
   "cell_type": "code",
   "execution_count": 16,
   "metadata": {},
   "outputs": [],
   "source": [
    "import heapq"
   ]
  },
  {
   "cell_type": "code",
   "execution_count": 17,
   "metadata": {},
   "outputs": [],
   "source": [
    "def dijkstra(aGraph, start, target):\n",
    "    print('''Dijkstra's shortest path''')\n",
    "    #set the distance for the start node to zero \n",
    "    start.set_distance(0)\n",
    "\n",
    "    #put tuple pair into the priority queue\n",
    "    unvisited_queue = [(v.get_distance(),v) for v in aGraph]\n",
    "    heapq.heapify(unvisited_queue)\n",
    "\n",
    "    while len(unvisited_queue):\n",
    "        #pops a vertex with the smallest distance \n",
    "        uv = heapq.heappop(unvisited_queue)\n",
    "        current = uv[1]\n",
    "        current.set_visited()\n",
    "\n",
    "        #for next in v.adjacent:\n",
    "        for next in current.adjacent:\n",
    "            #if visited, skip\n",
    "            if next.visited:\n",
    "                continue\n",
    "            new_dist = current.get_distance() + current.get_weight(next)\n",
    "            \n",
    "            if new_dist < next.get_distance():\n",
    "                next.set_distance(new_dist)\n",
    "                next.set_previous(current)\n",
    "                print('updated : current = %s next = %s new_dist = %s' \\\n",
    "                        %(current.get_id(), next.get_id(), next.get_distance()))\n",
    "            else:\n",
    "                print('not updated : current = %s next = %s new_dist = %s' \\\n",
    "                        %(current.get_id(), next.get_id(), next.get_distance()))\n",
    "\n",
    "        #rebuild heap\n",
    "        # 1. Pop every item\n",
    "        while len(unvisited_queue):\n",
    "            heapq.heappop(unvisited_queue)\n",
    "        # 2. Put all vertices not visited into the queue\n",
    "        unvisited_queue = [(v.get_distance(),v) for v in aGraph if not v.visited]\n",
    "        heapq.heapify(unvisited_queue)"
   ]
  },
  {
   "cell_type": "markdown",
   "metadata": {},
   "source": [
    "#### Conclusion\n",
    "##### I have successfully identified the distance and the path between two points"
   ]
  },
  {
   "cell_type": "markdown",
   "metadata": {},
   "source": [
    "#### ---------------------------------------------------------------------------------------------------------------------------------------------------------------------------------------------------\n",
    "# <center><font color=5B1736>Thank You!</font></center>"
   ]
  }
 ],
 "metadata": {
  "kernelspec": {
   "display_name": "Python 3",
   "language": "python",
   "name": "python3"
  },
  "language_info": {
   "codemirror_mode": {
    "name": "ipython",
    "version": 3
   },
   "file_extension": ".py",
   "mimetype": "text/x-python",
   "name": "python",
   "nbconvert_exporter": "python",
   "pygments_lexer": "ipython3",
   "version": "3.7.6"
  }
 },
 "nbformat": 4,
 "nbformat_minor": 4
}
