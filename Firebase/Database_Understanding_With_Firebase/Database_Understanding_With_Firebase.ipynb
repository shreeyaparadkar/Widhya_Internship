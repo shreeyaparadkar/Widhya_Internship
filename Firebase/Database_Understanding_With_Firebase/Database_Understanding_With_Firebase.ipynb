{
 "cells": [
  {
   "cell_type": "markdown",
   "metadata": {},
   "source": [
    "#### ---------------------------------------------------------------------------------------------------------------------------------------------------------------------------------------------------\n",
    "# <center><font color=7E4456>Widhya</font></center>"
   ]
  },
  {
   "attachments": {
    "Widhya_Logo.png": {
     "image/png": "[encoded data removed]"
    }
   },
   "cell_type": "markdown",
   "metadata": {},
   "source": [
    "![Widhya_Logo.png](attachment:Widhya_Logo.png)"
   ]
  },
  {
   "cell_type": "markdown",
   "metadata": {},
   "source": [
    "#### ---------------------------------------------------------------------------------------------------------------------------------------------------------------------------------------------------\n",
    "### <center><font color=7E4456>Data Science Internship\n",
    "\n",
    "### <center><font color=7E4456>By </font><font color=15D77D>: </font><font color=5B1736>Shreeya Ravindra Pant-Paradkar</font></center>\n",
    "#### ---------------------------------------------------------------------------------------------------------------------------------------------------------------------------------------------------"
   ]
  },
  {
   "cell_type": "markdown",
   "metadata": {},
   "source": [
    "# <center><font color=5B4727>Firebase</font></center>\n",
    "### <center><font color=5B4727>(Level - Beginner)</font></center>\n",
    "# <center><font color=14655D>Mission 1 : Database Understanding with Firebase</font></center>\n",
    "### <center><font color=155E64>Problem Statement: </font><font color=5B4727>Retrieve and add data from and to Firestore using Python</font>\n",
    "#### ---------------------------------------------------------------------------------------------------------------------------------------------------------------------------------------------------"
   ]
  },
  {
   "cell_type": "markdown",
   "metadata": {},
   "source": [
    "###### Date: 11-01-21 (Monday)\n",
    "\n",
    "#### Importing Libraries"
   ]
  },
  {
   "cell_type": "code",
   "execution_count": 1,
   "metadata": {},
   "outputs": [
    {
     "name": "stdout",
     "output_type": "stream",
     "text": [
      "Requirement already satisfied: firebase_admin in c:\\users\\shree\\anaconda3\\lib\\site-packages (4.5.0)\n",
      "Requirement already satisfied: google-api-core[grpc]<2.0.0dev,>=1.14.0 in c:\\users\\shree\\anaconda3\\lib\\site-packages (from firebase_admin) (1.24.1)\n",
      "Requirement already satisfied: cachecontrol>=0.12.6 in c:\\users\\shree\\anaconda3\\lib\\site-packages (from firebase_admin) (0.12.6)\n",
      "Requirement already satisfied: google-cloud-firestore>=1.4.0 in c:\\users\\shree\\anaconda3\\lib\\site-packages (from firebase_admin) (2.0.2)\n",
      "Requirement already satisfied: google-cloud-storage>=1.18.0 in c:\\users\\shree\\anaconda3\\lib\\site-packages (from firebase_admin) (1.35.0)\n",
      "Requirement already satisfied: google-api-python-client>=1.7.8 in c:\\users\\shree\\anaconda3\\lib\\site-packages (from firebase_admin) (1.12.8)\n",
      "Requirement already satisfied: msgpack>=0.5.2 in c:\\users\\shree\\anaconda3\\lib\\site-packages (from cachecontrol>=0.12.6->firebase_admin) (0.6.1)\n",
      "Requirement already satisfied: requests in c:\\users\\shree\\anaconda3\\lib\\site-packages (from cachecontrol>=0.12.6->firebase_admin) (2.22.0)\n",
      "Requirement already satisfied: google-auth<2.0dev,>=1.21.1 in c:\\users\\shree\\anaconda3\\lib\\site-packages (from google-api-core[grpc]<2.0.0dev,>=1.14.0->firebase_admin) (1.24.0)\n",
      "Requirement already satisfied: six>=1.13.0 in c:\\users\\shree\\anaconda3\\lib\\site-packages (from google-api-core[grpc]<2.0.0dev,>=1.14.0->firebase_admin) (1.15.0)\n",
      "Requirement already satisfied: protobuf>=3.12.0 in c:\\users\\shree\\anaconda3\\lib\\site-packages (from google-api-core[grpc]<2.0.0dev,>=1.14.0->firebase_admin) (3.14.0)\n",
      "Requirement already satisfied: setuptools>=34.0.0 in c:\\users\\shree\\anaconda3\\lib\\site-packages (from google-api-core[grpc]<2.0.0dev,>=1.14.0->firebase_admin) (45.2.0.post20200210)\n",
      "Requirement already satisfied: pytz in c:\\users\\shree\\anaconda3\\lib\\site-packages (from google-api-core[grpc]<2.0.0dev,>=1.14.0->firebase_admin) (2019.3)\n",
      "Requirement already satisfied: googleapis-common-protos<2.0dev,>=1.6.0 in c:\\users\\shree\\anaconda3\\lib\\site-packages (from google-api-core[grpc]<2.0.0dev,>=1.14.0->firebase_admin) (1.52.0)\n",
      "Requirement already satisfied: grpcio<2.0dev,>=1.29.0 in c:\\users\\shree\\anaconda3\\lib\\site-packages (from google-api-core[grpc]<2.0.0dev,>=1.14.0->firebase_admin) (1.32.0)\n",
      "Requirement already satisfied: uritemplate<4dev,>=3.0.0 in c:\\users\\shree\\anaconda3\\lib\\site-packages (from google-api-python-client>=1.7.8->firebase_admin) (3.0.1)\n",
      "Requirement already satisfied: httplib2<1dev,>=0.15.0 in c:\\users\\shree\\anaconda3\\lib\\site-packages (from google-api-python-client>=1.7.8->firebase_admin) (0.18.1)\n",
      "Requirement already satisfied: google-auth-httplib2>=0.0.3 in c:\\users\\shree\\anaconda3\\lib\\site-packages (from google-api-python-client>=1.7.8->firebase_admin) (0.0.4)\n",
      "Requirement already satisfied: cachetools<5.0,>=2.0.0 in c:\\users\\shree\\anaconda3\\lib\\site-packages (from google-auth<2.0dev,>=1.21.1->google-api-core[grpc]<2.0.0dev,>=1.14.0->firebase_admin) (4.2.0)\n",
      "Requirement already satisfied: pyasn1-modules>=0.2.1 in c:\\users\\shree\\anaconda3\\lib\\site-packages (from google-auth<2.0dev,>=1.21.1->google-api-core[grpc]<2.0.0dev,>=1.14.0->firebase_admin) (0.2.8)\n",
      "Requirement already satisfied: rsa<5,>=3.1.4 in c:\\users\\shree\\anaconda3\\lib\\site-packages (from google-auth<2.0dev,>=1.21.1->google-api-core[grpc]<2.0.0dev,>=1.14.0->firebase_admin) (4.7)\n",
      "Requirement already satisfied: proto-plus>=1.3.0 in c:\\users\\shree\\anaconda3\\lib\\site-packages (from google-cloud-firestore>=1.4.0->firebase_admin) (1.13.0)\n",
      "Requirement already satisfied: google-cloud-core<2.0dev,>=1.4.1 in c:\\users\\shree\\anaconda3\\lib\\site-packages (from google-cloud-firestore>=1.4.0->firebase_admin) (1.5.0)\n",
      "Requirement already satisfied: google-resumable-media<2.0dev,>=1.2.0 in c:\\users\\shree\\anaconda3\\lib\\site-packages (from google-cloud-storage>=1.18.0->firebase_admin) (1.2.0)\n",
      "Requirement already satisfied: google-crc32c<2.0dev,>=1.0 in c:\\users\\shree\\anaconda3\\lib\\site-packages (from google-resumable-media<2.0dev,>=1.2.0->google-cloud-storage>=1.18.0->firebase_admin) (1.1.0)\n",
      "Requirement already satisfied: cffi>=1.0.0 in c:\\users\\shree\\anaconda3\\lib\\site-packages (from google-crc32c<2.0dev,>=1.0->google-resumable-media<2.0dev,>=1.2.0->google-cloud-storage>=1.18.0->firebase_admin) (1.14.0)\n",
      "Requirement already satisfied: pycparser in c:\\users\\shree\\anaconda3\\lib\\site-packages (from cffi>=1.0.0->google-crc32c<2.0dev,>=1.0->google-resumable-media<2.0dev,>=1.2.0->google-cloud-storage>=1.18.0->firebase_admin) (2.19)\n",
      "Requirement already satisfied: pyasn1<0.5.0,>=0.4.6 in c:\\users\\shree\\anaconda3\\lib\\site-packages (from pyasn1-modules>=0.2.1->google-auth<2.0dev,>=1.21.1->google-api-core[grpc]<2.0.0dev,>=1.14.0->firebase_admin) (0.4.8)\n",
      "Requirement already satisfied: urllib3!=1.25.0,!=1.25.1,<1.26,>=1.21.1 in c:\\users\\shree\\anaconda3\\lib\\site-packages (from requests->cachecontrol>=0.12.6->firebase_admin) (1.25.8)\n",
      "Requirement already satisfied: idna<2.9,>=2.5 in c:\\users\\shree\\anaconda3\\lib\\site-packages (from requests->cachecontrol>=0.12.6->firebase_admin) (2.8)\n",
      "Requirement already satisfied: certifi>=2017.4.17 in c:\\users\\shree\\anaconda3\\lib\\site-packages (from requests->cachecontrol>=0.12.6->firebase_admin) (2019.11.28)\n",
      "Requirement already satisfied: chardet<3.1.0,>=3.0.2 in c:\\users\\shree\\anaconda3\\lib\\site-packages (from requests->cachecontrol>=0.12.6->firebase_admin) (3.0.4)\n"
     ]
    }
   ],
   "source": [
    "!pip install firebase_admin"
   ]
  },
  {
   "cell_type": "code",
   "execution_count": 2,
   "metadata": {},
   "outputs": [],
   "source": [
    "import firebase_admin\n",
    "from firebase_admin import credentials\n",
    "from firebase_admin import firestore"
   ]
  },
  {
   "cell_type": "markdown",
   "metadata": {},
   "source": [
    "#### Initializations"
   ]
  },
  {
   "cell_type": "code",
   "execution_count": 3,
   "metadata": {},
   "outputs": [],
   "source": [
    "cred=credentials.Certificate('C:/Users/shree/Desktop/Widhya_Internship/Firebase/Database_Understanding_With_Firebase/cred.json')"
   ]
  },
  {
   "cell_type": "code",
   "execution_count": 4,
   "metadata": {},
   "outputs": [
    {
     "data": {
      "text/plain": [
       "<firebase_admin.App at 0x1c86deda348>"
      ]
     },
     "execution_count": 4,
     "metadata": {},
     "output_type": "execute_result"
    }
   ],
   "source": [
    "firebase_admin.initialize_app(cred)"
   ]
  },
  {
   "cell_type": "markdown",
   "metadata": {},
   "source": [
    "#### Accesing Database"
   ]
  },
  {
   "cell_type": "code",
   "execution_count": 5,
   "metadata": {},
   "outputs": [],
   "source": [
    "db = firestore.client()"
   ]
  },
  {
   "cell_type": "markdown",
   "metadata": {},
   "source": [
    "#### Reading documents from firebase"
   ]
  },
  {
   "cell_type": "code",
   "execution_count": 6,
   "metadata": {},
   "outputs": [
    {
     "name": "stdout",
     "output_type": "stream",
     "text": [
      "Doc1 => {'a': 10}\n",
      "Doc2 => {'b': 20, 'c': 30}\n"
     ]
    }
   ],
   "source": [
    "usr = db.collection('Users')\n",
    "docs = usr.stream()\n",
    "\n",
    "for doc in docs:\n",
    "    print('{} => {}'.format(doc.id, doc.to_dict()))"
   ]
  },
  {
   "cell_type": "markdown",
   "metadata": {},
   "source": [
    "#### Manually adding data to firebase (In first doc)"
   ]
  },
  {
   "cell_type": "code",
   "execution_count": 7,
   "metadata": {},
   "outputs": [
    {
     "data": {
      "text/plain": [
       "update_time {\n",
       "  seconds: 1610373037\n",
       "  nanos: 262228000\n",
       "}"
      ]
     },
     "execution_count": 7,
     "metadata": {},
     "output_type": "execute_result"
    }
   ],
   "source": [
    "md=db.collection('Users').document('Doc1')\n",
    "md.update({\n",
    "    'd':45,\n",
    "    'e':55,\n",
    "    'f':90,\n",
    "    'g':13,\n",
    "    'h':33\n",
    "})"
   ]
  },
  {
   "cell_type": "markdown",
   "metadata": {},
   "source": [
    "#### Manually adding data to firebase (In second doc)"
   ]
  },
  {
   "cell_type": "code",
   "execution_count": 8,
   "metadata": {},
   "outputs": [
    {
     "data": {
      "text/plain": [
       "update_time {\n",
       "  seconds: 1610373037\n",
       "  nanos: 736550000\n",
       "}"
      ]
     },
     "execution_count": 8,
     "metadata": {},
     "output_type": "execute_result"
    }
   ],
   "source": [
    "manually_data = db.collection('Users').document('Doc2')\n",
    " \n",
    "manually_data.update({\n",
    " \n",
    "    'i':60,\n",
    "    'j':40,\n",
    "    'k':25,\n",
    "    'l':100\n",
    " \n",
    "})"
   ]
  },
  {
   "cell_type": "markdown",
   "metadata": {},
   "source": [
    "#### Creating CSV file and uploading on firebase"
   ]
  },
  {
   "cell_type": "code",
   "execution_count": 9,
   "metadata": {},
   "outputs": [],
   "source": [
    "import pandas as pd\n",
    "import string"
   ]
  },
  {
   "cell_type": "code",
   "execution_count": 10,
   "metadata": {},
   "outputs": [],
   "source": [
    "list1 = [x for x in string.ascii_lowercase]\n",
    "list2 = [x for x in range(1,27)]"
   ]
  },
  {
   "cell_type": "code",
   "execution_count": 11,
   "metadata": {},
   "outputs": [],
   "source": [
    "df = pd.DataFrame([list1, list2])\n",
    "df=df.transpose() \n",
    "df.to_csv('temp.csv',index=False)"
   ]
  },
  {
   "cell_type": "markdown",
   "metadata": {},
   "source": [
    "#### Reading Data"
   ]
  },
  {
   "cell_type": "code",
   "execution_count": 12,
   "metadata": {},
   "outputs": [],
   "source": [
    "df1=pd.read_csv('temp.csv')"
   ]
  },
  {
   "cell_type": "code",
   "execution_count": 13,
   "metadata": {},
   "outputs": [
    {
     "data": {
      "text/html": [
       "<div>\n",
       "<style scoped>\n",
       "    .dataframe tbody tr th:only-of-type {\n",
       "        vertical-align: middle;\n",
       "    }\n",
       "\n",
       "    .dataframe tbody tr th {\n",
       "        vertical-align: top;\n",
       "    }\n",
       "\n",
       "    .dataframe thead th {\n",
       "        text-align: right;\n",
       "    }\n",
       "</style>\n",
       "<table border=\"1\" class=\"dataframe\">\n",
       "  <thead>\n",
       "    <tr style=\"text-align: right;\">\n",
       "      <th></th>\n",
       "      <th>0</th>\n",
       "      <th>1</th>\n",
       "    </tr>\n",
       "  </thead>\n",
       "  <tbody>\n",
       "    <tr>\n",
       "      <th>0</th>\n",
       "      <td>a</td>\n",
       "      <td>1</td>\n",
       "    </tr>\n",
       "    <tr>\n",
       "      <th>1</th>\n",
       "      <td>b</td>\n",
       "      <td>2</td>\n",
       "    </tr>\n",
       "    <tr>\n",
       "      <th>2</th>\n",
       "      <td>c</td>\n",
       "      <td>3</td>\n",
       "    </tr>\n",
       "    <tr>\n",
       "      <th>3</th>\n",
       "      <td>d</td>\n",
       "      <td>4</td>\n",
       "    </tr>\n",
       "    <tr>\n",
       "      <th>4</th>\n",
       "      <td>e</td>\n",
       "      <td>5</td>\n",
       "    </tr>\n",
       "  </tbody>\n",
       "</table>\n",
       "</div>"
      ],
      "text/plain": [
       "   0  1\n",
       "0  a  1\n",
       "1  b  2\n",
       "2  c  3\n",
       "3  d  4\n",
       "4  e  5"
      ]
     },
     "execution_count": 13,
     "metadata": {},
     "output_type": "execute_result"
    }
   ],
   "source": [
    "df1.head()"
   ]
  },
  {
   "cell_type": "code",
   "execution_count": 14,
   "metadata": {},
   "outputs": [],
   "source": [
    "tmp = df1.to_dict('split')['data']"
   ]
  },
  {
   "cell_type": "markdown",
   "metadata": {},
   "source": [
    "tmp"
   ]
  },
  {
   "cell_type": "code",
   "execution_count": 15,
   "metadata": {},
   "outputs": [],
   "source": [
    "tmp1=dict(tmp)"
   ]
  },
  {
   "cell_type": "code",
   "execution_count": 16,
   "metadata": {},
   "outputs": [
    {
     "data": {
      "text/plain": [
       "{'a': 1,\n",
       " 'b': 2,\n",
       " 'c': 3,\n",
       " 'd': 4,\n",
       " 'e': 5,\n",
       " 'f': 6,\n",
       " 'g': 7,\n",
       " 'h': 8,\n",
       " 'i': 9,\n",
       " 'j': 10,\n",
       " 'k': 11,\n",
       " 'l': 12,\n",
       " 'm': 13,\n",
       " 'n': 14,\n",
       " 'o': 15,\n",
       " 'p': 16,\n",
       " 'q': 17,\n",
       " 'r': 18,\n",
       " 's': 19,\n",
       " 't': 20,\n",
       " 'u': 21,\n",
       " 'v': 22,\n",
       " 'w': 23,\n",
       " 'x': 24,\n",
       " 'y': 25,\n",
       " 'z': 26}"
      ]
     },
     "execution_count": 16,
     "metadata": {},
     "output_type": "execute_result"
    }
   ],
   "source": [
    "tmp1"
   ]
  },
  {
   "cell_type": "code",
   "execution_count": 17,
   "metadata": {},
   "outputs": [
    {
     "data": {
      "text/plain": [
       "update_time {\n",
       "  seconds: 1610373058\n",
       "  nanos: 740558000\n",
       "}"
      ]
     },
     "execution_count": 17,
     "metadata": {},
     "output_type": "execute_result"
    }
   ],
   "source": [
    "manually_data.update(tmp1)"
   ]
  },
  {
   "cell_type": "markdown",
   "metadata": {},
   "source": [
    "#### Conclusion\n",
    "##### I have successfully retrieved and added data from and to firebase using python"
   ]
  },
  {
   "cell_type": "markdown",
   "metadata": {},
   "source": [
    "#### ---------------------------------------------------------------------------------------------------------------------------------------------------------------------------------------------------\n",
    "# <center><font color=5B1736>Thank You!</font></center>"
   ]
  }
 ],
 "metadata": {
  "kernelspec": {
   "display_name": "Python 3",
   "language": "python",
   "name": "python3"
  },
  "language_info": {
   "codemirror_mode": {
    "name": "ipython",
    "version": 3
   },
   "file_extension": ".py",
   "mimetype": "text/x-python",
   "name": "python",
   "nbconvert_exporter": "python",
   "pygments_lexer": "ipython3",
   "version": "3.7.6"
  }
 },
 "nbformat": 4,
 "nbformat_minor": 4
}
